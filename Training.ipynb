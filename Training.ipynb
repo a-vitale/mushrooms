{
 "cells": [
  {
   "cell_type": "code",
   "execution_count": 1,
   "id": "83d6eb44",
   "metadata": {},
   "outputs": [
    {
     "name": "stdout",
     "output_type": "stream",
     "text": [
      "Requirement already satisfied: numpy==1.18.1 in c:\\users\\vital\\anaconda3\\lib\\site-packages (from -r requirements.txt (line 1)) (1.18.1)"
     ]
    },
    {
     "name": "stderr",
     "output_type": "stream",
     "text": [
      "ERROR: Could not install packages due to an OSError: [Errno 2] No such file or directory: 'c:\\\\users\\\\vital\\\\anaconda3\\\\lib\\\\site-packages\\\\scikit_image-0.18.1-py3.8.egg-info'\n",
      "\n"
     ]
    },
    {
     "name": "stdout",
     "output_type": "stream",
     "text": [
      "\n",
      "Collecting pandas==1.0.1\n",
      "  Using cached pandas-1.0.1-cp38-cp38-win_amd64.whl (9.2 MB)\n",
      "Collecting scikit-image==0.16.2\n",
      "  Using cached scikit_image-0.16.2-cp38-cp38-win_amd64.whl (25.8 MB)\n",
      "Collecting scikit-learn==0.22.2.post1\n",
      "  Using cached scikit_learn-0.22.2.post1-cp38-cp38-win_amd64.whl (6.6 MB)\n",
      "Requirement already satisfied: python-dateutil>=2.6.1 in c:\\users\\vital\\anaconda3\\lib\\site-packages (from pandas==1.0.1->-r requirements.txt (line 2)) (2.8.1)\n",
      "Requirement already satisfied: pytz>=2017.2 in c:\\users\\vital\\anaconda3\\lib\\site-packages (from pandas==1.0.1->-r requirements.txt (line 2)) (2021.1)\n",
      "Requirement already satisfied: pillow>=4.3.0 in c:\\users\\vital\\anaconda3\\lib\\site-packages (from scikit-image==0.16.2->-r requirements.txt (line 3)) (8.1.2)\n",
      "Requirement already satisfied: PyWavelets>=0.4.0 in c:\\users\\vital\\anaconda3\\lib\\site-packages (from scikit-image==0.16.2->-r requirements.txt (line 3)) (1.1.1)\n",
      "Requirement already satisfied: imageio>=2.3.0 in c:\\users\\vital\\anaconda3\\lib\\site-packages (from scikit-image==0.16.2->-r requirements.txt (line 3)) (2.9.0)\n",
      "Requirement already satisfied: networkx>=2.0 in c:\\users\\vital\\anaconda3\\lib\\site-packages (from scikit-image==0.16.2->-r requirements.txt (line 3)) (2.5)\n",
      "Requirement already satisfied: matplotlib!=3.0.0,>=2.0.0 in c:\\users\\vital\\anaconda3\\lib\\site-packages (from scikit-image==0.16.2->-r requirements.txt (line 3)) (3.3.4)\n",
      "Requirement already satisfied: scipy>=0.19.0 in c:\\users\\vital\\anaconda3\\lib\\site-packages (from scikit-image==0.16.2->-r requirements.txt (line 3)) (1.6.2)\n",
      "Requirement already satisfied: joblib>=0.11 in c:\\users\\vital\\anaconda3\\lib\\site-packages (from scikit-learn==0.22.2.post1->-r requirements.txt (line 4)) (1.0.1)\n",
      "Requirement already satisfied: cycler>=0.10 in c:\\users\\vital\\anaconda3\\lib\\site-packages (from matplotlib!=3.0.0,>=2.0.0->scikit-image==0.16.2->-r requirements.txt (line 3)) (0.10.0)\n",
      "Requirement already satisfied: pyparsing!=2.0.4,!=2.1.2,!=2.1.6,>=2.0.3 in c:\\users\\vital\\anaconda3\\lib\\site-packages (from matplotlib!=3.0.0,>=2.0.0->scikit-image==0.16.2->-r requirements.txt (line 3)) (2.4.7)\n",
      "Requirement already satisfied: kiwisolver>=1.0.1 in c:\\users\\vital\\anaconda3\\lib\\site-packages (from matplotlib!=3.0.0,>=2.0.0->scikit-image==0.16.2->-r requirements.txt (line 3)) (1.3.1)\n",
      "Requirement already satisfied: six in c:\\users\\vital\\anaconda3\\lib\\site-packages (from cycler>=0.10->matplotlib!=3.0.0,>=2.0.0->scikit-image==0.16.2->-r requirements.txt (line 3)) (1.14.0)\n",
      "Requirement already satisfied: decorator>=4.3.0 in c:\\users\\vital\\anaconda3\\lib\\site-packages (from networkx>=2.0->scikit-image==0.16.2->-r requirements.txt (line 3)) (4.4.1)\n",
      "Installing collected packages: scikit-learn, scikit-image, pandas\n",
      "  Attempting uninstall: scikit-learn\n",
      "    Found existing installation: scikit-learn 0.24.1\n",
      "    Uninstalling scikit-learn-0.24.1:\n",
      "      Successfully uninstalled scikit-learn-0.24.1\n",
      "  Attempting uninstall: scikit-image\n",
      "    Found existing installation: scikit-image 0.18.1\n",
      "    Uninstalling scikit-image-0.18.1:\n"
     ]
    }
   ],
   "source": [
    "!pip install -r requirements.txt"
   ]
  },
  {
   "cell_type": "code",
   "execution_count": 5,
   "id": "7258a45e",
   "metadata": {},
   "outputs": [],
   "source": [
    "import pandas as pd \n",
    "from sklearn.preprocessing import LabelEncoder\n",
    "from sklearn.metrics import accuracy_score\n",
    "from sklearn.tree import DecisionTreeClassifier\n",
    "\n",
    "trainingSet = pd.read_csv(\"train.csv\")\n",
    "testSet = pd.read_csv(\"test.csv\")"
   ]
  },
  {
   "cell_type": "code",
   "execution_count": 6,
   "id": "5f08c72d",
   "metadata": {},
   "outputs": [],
   "source": [
    "labelEncoder_X = LabelEncoder()\n",
    "\n",
    "#in questo modo vengono mappati i valori in numeri attraverso il LabelEncoder\n",
    "for column in trainingSet.columns:\n",
    "    trainingSet[column] = labelEncoder_X.fit_transform(trainingSet[column])\n",
    "    testSet[column] = labelEncoder_X.fit_transform(testSet[column])\n",
    "X_trainingSet = trainingSet.drop(\"class\", axis=1).copy()\n",
    "y_trainingSet = trainingSet[\"class\"].copy()"
   ]
  },
  {
   "cell_type": "code",
   "execution_count": 7,
   "id": "5c96292b",
   "metadata": {},
   "outputs": [],
   "source": [
    "X_testSet = testSet.drop(\"class\", axis=1).copy()\n",
    "y_testSet = testSet[\"class\"].copy()"
   ]
  },
  {
   "cell_type": "code",
   "execution_count": 8,
   "id": "5462b1a3",
   "metadata": {},
   "outputs": [],
   "source": [
    "model = DecisionTreeClassifier(max_depth=7, min_samples_leaf=4, random_state=0)\n",
    "model.fit(X_trainingSet, y_trainingSet)\n",
    "pred = model.predict(X_testSet)"
   ]
  },
  {
   "cell_type": "code",
   "execution_count": 9,
   "id": "91e6a024",
   "metadata": {},
   "outputs": [
    {
     "name": "stdout",
     "output_type": "stream",
     "text": [
      "99.23076923076923\n"
     ]
    }
   ],
   "source": [
    "print(accuracy_score(y_testSet, pred)*100)"
   ]
  },
  {
   "cell_type": "code",
   "execution_count": null,
   "id": "45932c06",
   "metadata": {},
   "outputs": [],
   "source": []
  }
 ],
 "metadata": {
  "kernelspec": {
   "display_name": "Python 3",
   "language": "python",
   "name": "python3"
  },
  "language_info": {
   "codemirror_mode": {
    "name": "ipython",
    "version": 3
   },
   "file_extension": ".py",
   "mimetype": "text/x-python",
   "name": "python",
   "nbconvert_exporter": "python",
   "pygments_lexer": "ipython3",
   "version": "3.8.8"
  }
 },
 "nbformat": 4,
 "nbformat_minor": 5
}
