{
 "cells": [
  {
   "cell_type": "code",
   "execution_count": 1,
   "id": "9b7da00a",
   "metadata": {},
   "outputs": [
    {
     "name": "stdout",
     "output_type": "stream",
     "text": [
      "Requirement already satisfied: numpy==1.18.1 in c:\\users\\vital\\anaconda3\\lib\\site-packages (from -r requirements.txt (line 1)) (1.18.1)\n",
      "Collecting pandas==1.0.1\n",
      "  Using cached pandas-1.0.1-cp38-cp38-win_amd64.whl (9.2 MB)\n",
      "Collecting scikit-image==0.16.2\n",
      "  Using cached scikit_image-0.16.2-cp38-cp38-win_amd64.whl (25.8 MB)\n",
      "Collecting scikit-learn==0.22.2.post1\n",
      "  Using cached scikit_learn-0.22.2.post1-cp38-cp38-win_amd64.whl (6.6 MB)\n",
      "Requirement already satisfied: python-dateutil>=2.6.1 in c:\\users\\vital\\anaconda3\\lib\\site-packages (from pandas==1.0.1->-r requirements.txt (line 2)) (2.8.1)\n",
      "Requirement already satisfied: pytz>=2017.2 in c:\\users\\vital\\anaconda3\\lib\\site-packages (from pandas==1.0.1->-r requirements.txt (line 2)) (2021.1)\n",
      "Requirement already satisfied: networkx>=2.0 in c:\\users\\vital\\anaconda3\\lib\\site-packages (from scikit-image==0.16.2->-r requirements.txt (line 3)) (2.5)\n",
      "Requirement already satisfied: imageio>=2.3.0 in c:\\users\\vital\\anaconda3\\lib\\site-packages (from scikit-image==0.16.2->-r requirements.txt (line 3)) (2.9.0)\n",
      "Requirement already satisfied: PyWavelets>=0.4.0 in c:\\users\\vital\\anaconda3\\lib\\site-packages (from scikit-image==0.16.2->-r requirements.txt (line 3)) (1.1.1)\n",
      "Requirement already satisfied: scipy>=0.19.0 in c:\\users\\vital\\anaconda3\\lib\\site-packages (from scikit-image==0.16.2->-r requirements.txt (line 3)) (1.6.2)\n",
      "Requirement already satisfied: matplotlib!=3.0.0,>=2.0.0 in c:\\users\\vital\\anaconda3\\lib\\site-packages (from scikit-image==0.16.2->-r requirements.txt (line 3)) (3.3.4)\n",
      "Requirement already satisfied: pillow>=4.3.0 in c:\\users\\vital\\anaconda3\\lib\\site-packages (from scikit-image==0.16.2->-r requirements.txt (line 3)) (8.1.2)\n",
      "Requirement already satisfied: joblib>=0.11 in c:\\users\\vital\\anaconda3\\lib\\site-packages (from scikit-learn==0.22.2.post1->-r requirements.txt (line 4)) (1.0.1)\n",
      "Requirement already satisfied: kiwisolver>=1.0.1 in c:\\users\\vital\\anaconda3\\lib\\site-packages (from matplotlib!=3.0.0,>=2.0.0->scikit-image==0.16.2->-r requirements.txt (line 3)) (1.3.1)\n",
      "Requirement already satisfied: pyparsing!=2.0.4,!=2.1.2,!=2.1.6,>=2.0.3 in c:\\users\\vital\\anaconda3\\lib\\site-packages (from matplotlib!=3.0.0,>=2.0.0->scikit-image==0.16.2->-r requirements.txt (line 3)) (2.4.7)\n",
      "Requirement already satisfied: cycler>=0.10 in c:\\users\\vital\\anaconda3\\lib\\site-packages (from matplotlib!=3.0.0,>=2.0.0->scikit-image==0.16.2->-r requirements.txt (line 3)) (0.10.0)\n",
      "Requirement already satisfied: six in c:\\users\\vital\\anaconda3\\lib\\site-packages (from cycler>=0.10->matplotlib!=3.0.0,>=2.0.0->scikit-image==0.16.2->-r requirements.txt (line 3)) (1.14.0)\n",
      "Requirement already satisfied: decorator>=4.3.0 in c:\\users\\vital\\anaconda3\\lib\\site-packages (from networkx>=2.0->scikit-image==0.16.2->-r requirements.txt (line 3)) (4.4.1)\n",
      "Installing collected packages: scikit-learn, scikit-image, pandas\n",
      "  Attempting uninstall: scikit-learn\n",
      "    Found existing installation: scikit-learn 0.24.1\n",
      "    Can't uninstall 'scikit-learn'. No files were found to uninstall.\n",
      "  Attempting uninstall: scikit-image\n",
      "    Found existing installation: scikit-image 0.18.1\n",
      "    Uninstalling scikit-image-0.18.1:\n",
      "      Successfully uninstalled scikit-image-0.18.1\n",
      "  Attempting uninstall: pandas\n",
      "    Found existing installation: pandas 1.2.4\n",
      "    Uninstalling pandas-1.2.4:\n",
      "      Successfully uninstalled pandas-1.2.4\n",
      "Successfully installed pandas-1.0.1 scikit-image-0.16.2 scikit-learn-0.22.2.post1\n"
     ]
    }
   ],
   "source": [
    "!pip install -r requirements.txt"
   ]
  },
  {
   "cell_type": "code",
   "execution_count": 6,
   "id": "0d9d7c52",
   "metadata": {},
   "outputs": [],
   "source": [
    "import pandas as pd\n",
    "from sklearn.model_selection import train_test_split\n",
    "\n",
    "dataFrame = pd.read_csv(\"./mushrooms.partial.csv\")"
   ]
  },
  {
   "cell_type": "code",
   "execution_count": 7,
   "id": "41f0be6b",
   "metadata": {},
   "outputs": [],
   "source": [
    "y_dataFrame = dataFrame['class'].copy()\n",
    "X_dataFrame = dataFrame.drop(\"class\", axis=1).copy()"
   ]
  },
  {
   "cell_type": "code",
   "execution_count": 8,
   "id": "2ad010b8",
   "metadata": {},
   "outputs": [],
   "source": [
    "X_train, X_test, y_train, y_test = train_test_split(X_dataFrame, y_dataFrame, test_size=0.2, random_state=0)\n",
    "trainingSet = X_train.join(y_train)\n",
    "testSet = X_test.join(y_test)"
   ]
  },
  {
   "cell_type": "code",
   "execution_count": 9,
   "id": "241a1edf",
   "metadata": {},
   "outputs": [
    {
     "name": "stdout",
     "output_type": "stream",
     "text": [
      "save train.csv\n"
     ]
    }
   ],
   "source": [
    "trainingSet.to_csv(\"train.csv\", index=False)\n",
    "print(\"save train.csv\")"
   ]
  },
  {
   "cell_type": "code",
   "execution_count": 10,
   "id": "c8b0817b",
   "metadata": {},
   "outputs": [
    {
     "name": "stdout",
     "output_type": "stream",
     "text": [
      "save test.csv\n"
     ]
    }
   ],
   "source": [
    "testSet.to_csv(\"test.csv\", index=False)\n",
    "print(\"save test.csv\")"
   ]
  },
  {
   "cell_type": "code",
   "execution_count": null,
   "id": "7c02a114",
   "metadata": {},
   "outputs": [],
   "source": []
  }
 ],
 "metadata": {
  "kernelspec": {
   "display_name": "Python 3",
   "language": "python",
   "name": "python3"
  },
  "language_info": {
   "codemirror_mode": {
    "name": "ipython",
    "version": 3
   },
   "file_extension": ".py",
   "mimetype": "text/x-python",
   "name": "python",
   "nbconvert_exporter": "python",
   "pygments_lexer": "ipython3",
   "version": "3.8.8"
  }
 },
 "nbformat": 4,
 "nbformat_minor": 5
}
